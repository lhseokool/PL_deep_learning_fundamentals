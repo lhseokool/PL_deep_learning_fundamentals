{
  "cells": [
    {
      "cell_type": "code",
      "execution_count": 1,
      "metadata": {
        "colab": {
          "base_uri": "https://localhost:8080/"
        },
        "id": "zLHxxDm9BmMZ",
        "outputId": "2aaf0832-9d1a-42ad-ca87-a398e3c8c045"
      },
      "outputs": [
        {
          "name": "stdout",
          "output_type": "stream",
          "text": [
            "abcdefghijklmnopqrstuvwxyz 26\n"
          ]
        }
      ],
      "source": [
        "import pandas as pd\n",
        "\n",
        "df = pd.read_csv('data/name_gender_filtered.csv')\n",
        "unique_chars = set()\n",
        "\n",
        "for name in df['Name']:\n",
        "    unique_chars.update(name)\n",
        "unique_chars = sorted(list(unique_chars))\n",
        "unique_chars = ''.join(unique_chars)\n",
        "print(unique_chars, len(unique_chars))"
      ]
    },
    {
      "cell_type": "code",
      "execution_count": 2,
      "metadata": {
        "id": "TVnJTlR5CGqc"
      },
      "outputs": [
        {
          "name": "stdout",
          "output_type": "stream",
          "text": [
            "tensor([[0., 0., 0., 0., 0., 0., 0., 0., 0., 0., 0., 1., 0., 0., 0., 0., 0., 0.,\n",
            "         0., 0., 0., 0., 0., 0., 0., 0.],\n",
            "        [0., 0., 0., 0., 1., 0., 0., 0., 0., 0., 0., 0., 0., 0., 0., 0., 0., 0.,\n",
            "         0., 0., 0., 0., 0., 0., 0., 0.],\n",
            "        [0., 0., 0., 0., 0., 0., 0., 0., 0., 0., 0., 0., 0., 0., 1., 0., 0., 0.,\n",
            "         0., 0., 0., 0., 0., 0., 0., 0.]])\n"
          ]
        }
      ],
      "source": [
        "import torch\n",
        "\n",
        "n_letters = len(unique_chars)\n",
        "def nameToTensor(name):\n",
        "    tensor = torch.zeros(len(name), n_letters)\n",
        "    for char_idx, char in enumerate(name):\n",
        "        letter_idx = unique_chars.find(char)\n",
        "        assert letter_idx != -1, f\"char is {name}, {char}\"\n",
        "        tensor[char_idx][letter_idx] = 1\n",
        "    return tensor\n",
        "\n",
        "gen2num = {'F':0, 'M':1}\n",
        "num2gen = {0:'F', 1:'M'}\n",
        "\n",
        "print(nameToTensor('leo'))"
      ]
    },
    {
      "cell_type": "code",
      "execution_count": 3,
      "metadata": {},
      "outputs": [
        {
          "name": "stdout",
          "output_type": "stream",
          "text": [
            "celene\n",
            "tensor([[0., 0., 1., 0., 0., 0., 0., 0., 0., 0., 0., 0., 0., 0., 0., 0., 0., 0.,\n",
            "         0., 0., 0., 0., 0., 0., 0., 0.],\n",
            "        [0., 0., 0., 0., 1., 0., 0., 0., 0., 0., 0., 0., 0., 0., 0., 0., 0., 0.,\n",
            "         0., 0., 0., 0., 0., 0., 0., 0.],\n",
            "        [0., 0., 0., 0., 0., 0., 0., 0., 0., 0., 0., 1., 0., 0., 0., 0., 0., 0.,\n",
            "         0., 0., 0., 0., 0., 0., 0., 0.],\n",
            "        [0., 0., 0., 0., 1., 0., 0., 0., 0., 0., 0., 0., 0., 0., 0., 0., 0., 0.,\n",
            "         0., 0., 0., 0., 0., 0., 0., 0.],\n",
            "        [0., 0., 0., 0., 0., 0., 0., 0., 0., 0., 0., 0., 0., 1., 0., 0., 0., 0.,\n",
            "         0., 0., 0., 0., 0., 0., 0., 0.],\n",
            "        [0., 0., 0., 0., 1., 0., 0., 0., 0., 0., 0., 0., 0., 0., 0., 0., 0., 0.,\n",
            "         0., 0., 0., 0., 0., 0., 0., 0.]])\n",
            "F 0\n",
            "tensor([0])\n"
          ]
        }
      ],
      "source": [
        "# tensor check\n",
        "\n",
        "shuffled_df = df.sample(frac=1).reset_index(drop=True)\n",
        "\n",
        "for index, row in shuffled_df.iterrows():\n",
        "    input_tensor = nameToTensor(row['Name'])\n",
        "    target_tensor = torch.tensor([gen2num[row['Gender']]], dtype=torch.long)\n",
        "    \n",
        "    print(row['Name'])\n",
        "    print(input_tensor)\n",
        "    print(row['Gender'], gen2num[row['Gender']])\n",
        "    print(target_tensor)\n",
        "    break"
      ]
    },
    {
      "cell_type": "code",
      "execution_count": 4,
      "metadata": {},
      "outputs": [],
      "source": [
        "from myRNN import *\n",
        "\n",
        "n_hidden = 32\n",
        "rnn_model = MyRNN(n_letters, n_hidden, 2)"
      ]
    },
    {
      "cell_type": "code",
      "execution_count": 6,
      "metadata": {
        "colab": {
          "base_uri": "https://localhost:8080/"
        },
        "id": "Mf9ax5NBDXTc",
        "outputId": "e44c21aa-00cd-4fe4-b934-9f7848770350"
      },
      "outputs": [
        {
          "name": "stdout",
          "output_type": "stream",
          "text": [
            "Epoch: 0, Loss: 0.3729, Accuracy: 83.62%\n",
            "Epoch: 1, Loss: 0.3707, Accuracy: 83.76%\n",
            "Epoch: 2, Loss: 0.3689, Accuracy: 83.88%\n",
            "Epoch: 3, Loss: 0.3682, Accuracy: 84.03%\n",
            "Epoch: 4, Loss: 0.3677, Accuracy: 83.90%\n",
            "Epoch: 5, Loss: 0.3672, Accuracy: 83.93%\n",
            "Epoch: 6, Loss: 0.3660, Accuracy: 84.14%\n",
            "Epoch: 7, Loss: 0.3655, Accuracy: 84.14%\n",
            "Epoch: 8, Loss: 0.3649, Accuracy: 84.14%\n",
            "Epoch: 9, Loss: 0.3649, Accuracy: 84.20%\n",
            "Epoch: 10, Loss: 0.3638, Accuracy: 84.29%\n",
            "Epoch: 11, Loss: 0.3628, Accuracy: 84.28%\n",
            "Epoch: 12, Loss: 0.3627, Accuracy: 84.23%\n",
            "Epoch: 13, Loss: 0.3612, Accuracy: 84.34%\n",
            "Epoch: 14, Loss: 0.3603, Accuracy: 84.50%\n",
            "Epoch: 15, Loss: 0.3587, Accuracy: 84.40%\n",
            "Epoch: 16, Loss: 0.3580, Accuracy: 84.55%\n",
            "Epoch: 17, Loss: 0.3563, Accuracy: 84.77%\n",
            "Epoch: 18, Loss: 0.3543, Accuracy: 84.70%\n",
            "Epoch: 19, Loss: 0.3533, Accuracy: 84.70%\n",
            "Epoch: 20, Loss: 0.3513, Accuracy: 85.14%\n",
            "Epoch: 21, Loss: 0.3503, Accuracy: 84.91%\n",
            "Epoch: 22, Loss: 0.3478, Accuracy: 85.12%\n",
            "Epoch: 23, Loss: 0.3461, Accuracy: 85.00%\n",
            "Epoch: 24, Loss: 0.3439, Accuracy: 85.21%\n",
            "Epoch: 25, Loss: 0.3424, Accuracy: 85.38%\n",
            "Epoch: 26, Loss: 0.3406, Accuracy: 85.48%\n",
            "Epoch: 27, Loss: 0.3388, Accuracy: 85.50%\n",
            "Epoch: 28, Loss: 0.3363, Accuracy: 85.67%\n",
            "Epoch: 29, Loss: 0.3345, Accuracy: 85.68%\n",
            "Epoch: 30, Loss: 0.3334, Accuracy: 85.80%\n",
            "Epoch: 31, Loss: 0.3309, Accuracy: 85.96%\n",
            "Epoch: 32, Loss: 0.3281, Accuracy: 85.86%\n",
            "Epoch: 33, Loss: 0.3265, Accuracy: 86.08%\n",
            "Epoch: 34, Loss: 0.3238, Accuracy: 86.16%\n",
            "Epoch: 35, Loss: 0.3216, Accuracy: 86.23%\n",
            "Epoch: 36, Loss: 0.3202, Accuracy: 86.45%\n",
            "Epoch: 37, Loss: 0.3180, Accuracy: 86.65%\n",
            "Epoch: 38, Loss: 0.3162, Accuracy: 86.48%\n",
            "Epoch: 39, Loss: 0.3143, Accuracy: 86.87%\n",
            "Epoch: 40, Loss: 0.3116, Accuracy: 87.05%\n",
            "Epoch: 41, Loss: 0.3107, Accuracy: 86.90%\n",
            "Epoch: 42, Loss: 0.3087, Accuracy: 87.04%\n",
            "Epoch: 43, Loss: 0.3063, Accuracy: 87.24%\n",
            "Epoch: 44, Loss: 0.3043, Accuracy: 87.32%\n",
            "Epoch: 45, Loss: 0.3032, Accuracy: 87.33%\n",
            "Epoch: 46, Loss: 0.3016, Accuracy: 87.55%\n",
            "Epoch: 47, Loss: 0.3001, Accuracy: 87.52%\n",
            "Epoch: 48, Loss: 0.2985, Accuracy: 87.60%\n",
            "Epoch: 49, Loss: 0.2974, Accuracy: 87.66%\n",
            "Epoch: 50, Loss: 0.2954, Accuracy: 87.66%\n",
            "Epoch: 51, Loss: 0.2934, Accuracy: 87.78%\n",
            "Epoch: 52, Loss: 0.2925, Accuracy: 87.95%\n",
            "Epoch: 53, Loss: 0.2902, Accuracy: 88.04%\n",
            "Epoch: 54, Loss: 0.2900, Accuracy: 87.99%\n",
            "Epoch: 55, Loss: 0.2882, Accuracy: 88.11%\n",
            "Epoch: 56, Loss: 0.2871, Accuracy: 88.12%\n",
            "Epoch: 57, Loss: 0.2849, Accuracy: 88.09%\n",
            "Epoch: 58, Loss: 0.2846, Accuracy: 88.46%\n",
            "Epoch: 59, Loss: 0.2826, Accuracy: 88.31%\n",
            "Epoch: 60, Loss: 0.2807, Accuracy: 88.55%\n",
            "Epoch: 61, Loss: 0.2800, Accuracy: 88.47%\n",
            "Epoch: 62, Loss: 0.2783, Accuracy: 88.54%\n",
            "Epoch: 63, Loss: 0.2774, Accuracy: 88.61%\n",
            "Epoch: 64, Loss: 0.2755, Accuracy: 88.69%\n",
            "Epoch: 65, Loss: 0.2745, Accuracy: 88.96%\n",
            "Epoch: 66, Loss: 0.2736, Accuracy: 88.83%\n",
            "Epoch: 67, Loss: 0.2721, Accuracy: 89.07%\n",
            "Epoch: 68, Loss: 0.2707, Accuracy: 89.12%\n",
            "Epoch: 69, Loss: 0.2695, Accuracy: 89.14%\n",
            "Epoch: 70, Loss: 0.2681, Accuracy: 89.10%\n",
            "Epoch: 71, Loss: 0.2670, Accuracy: 89.08%\n",
            "Epoch: 72, Loss: 0.2657, Accuracy: 89.13%\n",
            "Epoch: 73, Loss: 0.2646, Accuracy: 89.39%\n",
            "Epoch: 74, Loss: 0.2625, Accuracy: 89.50%\n",
            "Epoch: 75, Loss: 0.2615, Accuracy: 89.51%\n",
            "Epoch: 76, Loss: 0.2599, Accuracy: 89.64%\n",
            "Epoch: 77, Loss: 0.2591, Accuracy: 89.64%\n",
            "Epoch: 78, Loss: 0.2582, Accuracy: 89.70%\n",
            "Epoch: 79, Loss: 0.2568, Accuracy: 89.68%\n",
            "Epoch: 80, Loss: 0.2559, Accuracy: 89.62%\n",
            "Epoch: 81, Loss: 0.2542, Accuracy: 89.80%\n",
            "Epoch: 82, Loss: 0.2524, Accuracy: 89.94%\n",
            "Epoch: 83, Loss: 0.2516, Accuracy: 89.89%\n",
            "Epoch: 84, Loss: 0.2506, Accuracy: 90.06%\n",
            "Epoch: 85, Loss: 0.2489, Accuracy: 90.12%\n",
            "Epoch: 86, Loss: 0.2482, Accuracy: 90.06%\n",
            "Epoch: 87, Loss: 0.2471, Accuracy: 90.15%\n",
            "Epoch: 88, Loss: 0.2460, Accuracy: 90.08%\n",
            "Epoch: 89, Loss: 0.2448, Accuracy: 90.24%\n",
            "Epoch: 90, Loss: 0.2437, Accuracy: 90.26%\n",
            "Epoch: 91, Loss: 0.2420, Accuracy: 90.27%\n",
            "Epoch: 92, Loss: 0.2417, Accuracy: 90.44%\n",
            "Epoch: 93, Loss: 0.2403, Accuracy: 90.46%\n",
            "Epoch: 94, Loss: 0.2394, Accuracy: 90.51%\n",
            "Epoch: 95, Loss: 0.2392, Accuracy: 90.52%\n",
            "Epoch: 96, Loss: 0.2373, Accuracy: 90.70%\n",
            "Epoch: 97, Loss: 0.2361, Accuracy: 90.59%\n",
            "Epoch: 98, Loss: 0.2361, Accuracy: 90.70%\n",
            "Epoch: 99, Loss: 0.2337, Accuracy: 90.72%\n"
          ]
        }
      ],
      "source": [
        "import torch\n",
        "from torch.optim import Adam, SGD\n",
        "\n",
        "loss_fn = nn.CrossEntropyLoss()\n",
        "optimizer = Adam(rnn_model.parameters(), lr=0.0001)\n",
        "\n",
        "rnn_model.train()\n",
        "for epoch_idx in range(100):\n",
        "    shuffled_df = df.sample(frac=1).reset_index(drop=True)\n",
        "\n",
        "    total_loss = 0.\n",
        "    correct_predictions = 0\n",
        "    total_predictions = 0\n",
        "\n",
        "    for index, row in shuffled_df.iterrows():\n",
        "        input_tensor = nameToTensor(row['Name'])\n",
        "        target_tensor = torch.tensor([gen2num[row['Gender']]], dtype=torch.long)\n",
        "\n",
        "        hidden = rnn_model.get_hidden()\n",
        "\n",
        "        rnn_model.zero_grad()\n",
        "\n",
        "        for char_idx in range(input_tensor.size()[0]):\n",
        "            char_tensor = input_tensor[char_idx]\n",
        "            output, hidden = rnn_model(char_tensor[None,:], hidden)\n",
        "\n",
        "        loss = loss_fn(output, target_tensor)\n",
        "        loss.backward()\n",
        "        optimizer.step()\n",
        "\n",
        "        total_loss += loss.item()\n",
        "        predicted_index = torch.argmax(output, 1)\n",
        "        correct_predictions += (predicted_index == target_tensor).sum().item()\n",
        "        total_predictions += 1\n",
        "\n",
        "    average_loss = total_loss / total_predictions\n",
        "    accuracy = 100 * correct_predictions / total_predictions\n",
        "    print(f'Epoch: {epoch_idx}, Loss: {average_loss:.4f}, Accuracy: {accuracy:.2f}%')\n"
      ]
    },
    {
      "cell_type": "code",
      "execution_count": null,
      "metadata": {
        "colab": {
          "base_uri": "https://localhost:8080/"
        },
        "id": "LX0vMHVJOPaU",
        "outputId": "051b3ec7-63ca-41d9-8965-1cee9f898c0a"
      },
      "outputs": [],
      "source": [
        "test_name = 'elsa'\n",
        "test_name_tensor = nameToTensor(test_name)\n",
        "\n",
        "rnn_model.eval()\n",
        "hidden = rnn_model.get_hidden()\n",
        "for char_idx in range(len(test_name)):\n",
        "    char_tensor = test_name_tensor[char_idx]\n",
        "    output, hidden = rnn_model(char_tensor[None,:],hidden)\n",
        "    \n",
        "predicted_index = torch.argmax(output, 1).item()\n",
        "print(num2gen[predicted_index])"
      ]
    }
  ],
  "metadata": {
    "colab": {
      "include_colab_link": true,
      "provenance": []
    },
    "kernelspec": {
      "display_name": "Python 3",
      "name": "python3"
    },
    "language_info": {
      "codemirror_mode": {
        "name": "ipython",
        "version": 3
      },
      "file_extension": ".py",
      "mimetype": "text/x-python",
      "name": "python",
      "nbconvert_exporter": "python",
      "pygments_lexer": "ipython3",
      "version": "3.9.17"
    }
  },
  "nbformat": 4,
  "nbformat_minor": 0
}
