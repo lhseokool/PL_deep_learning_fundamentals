{
 "cells": [
  {
   "cell_type": "code",
   "execution_count": 3,
   "metadata": {},
   "outputs": [
    {
     "name": "stderr",
     "output_type": "stream",
     "text": [
      "/Users/hyungseok/anaconda3/envs/llm/lib/python3.9/site-packages/torch/nn/modules/transformer.py:282: UserWarning: enable_nested_tensor is True, but self.use_nested_tensor is False because encoder_layer.self_attn.batch_first was not True(use batch_first for better inference performance)\n",
      "  warnings.warn(f\"enable_nested_tensor is True, but self.use_nested_tensor is False because {why_not_sparsity_fast_path}\")\n",
      "/Users/hyungseok/anaconda3/envs/llm/lib/python3.9/site-packages/tqdm/auto.py:21: TqdmWarning: IProgress not found. Please update jupyter and ipywidgets. See https://ipywidgets.readthedocs.io/en/stable/user_install.html\n",
      "  from .autonotebook import tqdm as notebook_tqdm\n"
     ]
    },
    {
     "name": "stdout",
     "output_type": "stream",
     "text": [
      "Epoch: 100, Loss: 0.008856602944433689\n",
      "Epoch: 200, Loss: 0.0030817966908216476\n",
      "Epoch: 300, Loss: 0.0023074999917298555\n",
      "Epoch: 400, Loss: 0.0006933901458978653\n",
      "Epoch: 500, Loss: 0.0006372613133862615\n",
      "[['i', 'like'], ['i', 'love'], ['i', 'hate'], ['you', 'like'], ['you', 'love'], ['you', 'hate']] -> ['dog', 'coffee', 'milk', 'cat', 'milk', 'coffee']\n"
     ]
    }
   ],
   "source": [
    "import torch\n",
    "import torch.nn as nn\n",
    "import torch.optim as optim\n",
    "import numpy as np\n",
    "import math\n",
    "\n",
    "\n",
    "# Sentences and Word Processing\n",
    "sentences = [\"i like dog\", \"i love coffee\", \"i hate milk\", \"you like cat\", \"you love milk\", \"you hate coffee\"]\n",
    "word_list = list(set(\" \".join(sentences).split()))\n",
    "word_dict = {w: i for i, w in enumerate(word_list)}\n",
    "number_dict = {i: w for i, w in enumerate(word_list)}\n",
    "n_class = len(word_dict)  # Number of unique words\n",
    "\n",
    "# Model Parameters\n",
    "input_size = n_class  # Size of the word embeddings\n",
    "hidden_size = 5  # Size of the Transformer's internal representations\n",
    "num_layers = 1  # Number of Transformer layers\n",
    "num_heads = 1  # Number of attention heads\n",
    "max_len = 5  # Maximum length of a sentence\n",
    "batch_size = len(sentences)\n",
    "\n",
    "def make_batch(sentences):\n",
    "    input_batch = [torch.tensor([word_dict[n] for n in sen.split()]) for sen in sentences]\n",
    "    target_batch = torch.tensor([word_dict[sen.split()[-1]] for sen in sentences])\n",
    "    return input_batch, target_batch\n",
    "\n",
    "input_batch, target_batch = make_batch(sentences)\n",
    "\n",
    "# Positional Encoding\n",
    "def get_sinusoid_encoding_table(n_position, d_hid):\n",
    "    def cal_angle(position, hid_idx):\n",
    "        return position / math.pow(10000, 2 * (hid_idx // 2) / d_hid)\n",
    "    def get_posi_angle_vec(position):\n",
    "        return [cal_angle(position, hid_j) for hid_j in range(d_hid)]\n",
    "\n",
    "    sinusoid_table = np.array([get_posi_angle_vec(pos_i) for pos_i in range(n_position)])\n",
    "    sinusoid_table[:, 0::2] = np.sin(sinusoid_table[:, 0::2])  # dim 2i\n",
    "    sinusoid_table[:, 1::2] = np.cos(sinusoid_table[:, 1::2])  # dim 2i+1\n",
    "\n",
    "    return torch.FloatTensor(sinusoid_table)\n",
    "\n",
    "# Transformer Model\n",
    "class TextTransformer(nn.Module):\n",
    "    def __init__(self):\n",
    "        super(TextTransformer, self).__init__()\n",
    "        self.embedding = nn.Embedding(n_class, input_size)\n",
    "        self.pos_encoding = get_sinusoid_encoding_table(max_len, input_size)\n",
    "        transformer_layer = nn.TransformerEncoderLayer(d_model=input_size, nhead=num_heads)\n",
    "        self.transformer = nn.TransformerEncoder(transformer_layer, num_layers=num_layers)\n",
    "        self.fc = nn.Linear(input_size, n_class)\n",
    "\n",
    "    def forward(self, x):\n",
    "        x = self.embedding(x) + self.pos_encoding[:x.size(1), :]\n",
    "        x = x.transpose(0, 1)  # Transformer expects [sequence length, batch, features]\n",
    "        output = self.transformer(x)\n",
    "        output = self.fc(output[-1])\n",
    "        return output\n",
    "\n",
    "model = TextTransformer()\n",
    "criterion = nn.CrossEntropyLoss()\n",
    "optimizer = optim.Adam(model.parameters(), lr=0.01)\n",
    "\n",
    "# Training\n",
    "for epoch in range(500):\n",
    "    optimizer.zero_grad()\n",
    "    output = model(torch.stack(input_batch))\n",
    "    loss = criterion(output, target_batch)\n",
    "    loss.backward()\n",
    "    optimizer.step()\n",
    "\n",
    "    if (epoch + 1) % 100 == 0:\n",
    "        print(f'Epoch: {epoch + 1}, Loss: {loss.item()}')\n",
    "\n",
    "# Prediction\n",
    "predict = model(torch.stack(input_batch)).data.max(1, keepdim=True)[1]\n",
    "predicted_words = [number_dict[n.item()] for n in predict.squeeze()]\n",
    "print([sen.split()[:2] for sen in sentences], '->', predicted_words)\n"
   ]
  },
  {
   "cell_type": "code",
   "execution_count": null,
   "metadata": {},
   "outputs": [],
   "source": []
  }
 ],
 "metadata": {
  "kernelspec": {
   "display_name": "llm",
   "language": "python",
   "name": "python3"
  },
  "language_info": {
   "codemirror_mode": {
    "name": "ipython",
    "version": 3
   },
   "file_extension": ".py",
   "mimetype": "text/x-python",
   "name": "python",
   "nbconvert_exporter": "python",
   "pygments_lexer": "ipython3",
   "version": "3.9.17"
  }
 },
 "nbformat": 4,
 "nbformat_minor": 2
}
